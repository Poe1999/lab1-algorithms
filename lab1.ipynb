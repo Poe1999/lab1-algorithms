{
  "nbformat": 4,
  "nbformat_minor": 0,
  "metadata": {
    "colab": {
      "provenance": [],
      "include_colab_link": true
    },
    "kernelspec": {
      "name": "python3",
      "display_name": "Python 3"
    },
    "language_info": {
      "name": "python"
    }
  },
  "cells": [
    {
      "cell_type": "markdown",
      "metadata": {
        "id": "view-in-github",
        "colab_type": "text"
      },
      "source": [
        "<a href=\"https://colab.research.google.com/github/Poe1999/lab1-algorithms/blob/main/lab1.ipynb\" target=\"_parent\"><img src=\"https://colab.research.google.com/assets/colab-badge.svg\" alt=\"Open In Colab\"/></a>"
      ]
    },
    {
      "cell_type": "markdown",
      "source": [
        "# Общая информация\n",
        "\n",
        "\n",
        "## Преподаватель\n",
        "**ФИО:** Клюкин Александр Викторович\n",
        "\n",
        "**Email:** kliukin_av@pfur.ru (можно просто найти в почте)\n",
        "\n",
        "\n",
        "---\n",
        "\n",
        "## Литература:\n",
        "\n",
        "\n",
        "- [Документация Python](https://docs.python.org/3/)  \n",
        "- [Алгоритмы и структуры данных (МФТИ)](https://cs.mipt.ru/algo/category/sem_1.html)  \n",
        "- [Яндекс.Учебник: Справочник по алгоритмам](https://education.yandex.ru/handbook/algorithms)  \n",
        "\n",
        "\n"
      ],
      "metadata": {
        "id": "Z5uq17vrqmhX"
      }
    },
    {
      "cell_type": "markdown",
      "source": [
        "# Задание 1: Colab + git\n",
        "\n",
        "## GitHub\n",
        "- Войдите на [GitHub](https://github.com)  \n",
        "- Создайте репозиторий:  \n",
        "  - **Name**: `lab1-algorithms`  \n",
        "  - Нажмите **Create repository**  \n",
        "\n",
        "---\n",
        "\n",
        "## Сохранение работы из Colab в GitHub\n",
        "В Colab:  \n",
        "- `File → Save a copy in GitHub`  \n",
        "- Выберите свой репозиторий `lab1-algorithms`  \n",
        "- Назовите файл `lab1.ipynb`  \n",
        "- Нажмите **OK**  "
      ],
      "metadata": {
        "id": "zQcROoMTyp18"
      }
    },
    {
      "cell_type": "markdown",
      "source": [
        "# Задание 2: теория\n",
        "\n"
      ],
      "metadata": {
        "id": "PTXbIXZJzQLo"
      }
    },
    {
      "cell_type": "markdown",
      "metadata": {
        "id": "8e443389"
      },
      "source": [
        "## Основы синтаксиса Python\n",
        "\n",
        "Python известен своим чистым и читабельным синтаксисом. Вот несколько ключевых моментов:\n",
        "\n",
        "1.  **Отступы:** Вместо фигурных скобок или ключевых слов для определения блоков кода (функций, циклов, условных операторов) в Python используются отступы (пробелы или табы). Это одно из самых важных правил. Обычно используются 4 пробела.\n",
        "2.  **Комментарии:** Однострочные комментарии начинаются с символа `#`. Многострочные комментарии можно создавать, заключая текст в тройные кавычки (`'''` или `\"\"\"`).\n",
        "3.  **Переменные:** Переменные объявляются при первом присваивании значения. Не нужно указывать тип данных, Python определяет его автоматически."
      ]
    },
    {
      "cell_type": "code",
      "metadata": {
        "colab": {
          "base_uri": "https://localhost:8080/",
          "height": 219
        },
        "id": "fba0399c",
        "outputId": "741c1c27-9894-43f3-8a78-48670f78da5f"
      },
      "source": [
        "if score > 90:\n",
        "    print(\"Отлично!\")\n",
        "elif score > 70:\n",
        "    print(\"Хорошо\")\n",
        "else:\n",
        "    print(\"Попробуйте еще раз\")"
      ],
      "execution_count": null,
      "outputs": [
        {
          "output_type": "error",
          "ename": "NameError",
          "evalue": "name 'score' is not defined",
          "traceback": [
            "\u001b[0;31m---------------------------------------------------------------------------\u001b[0m",
            "\u001b[0;31mNameError\u001b[0m                                 Traceback (most recent call last)",
            "\u001b[0;32m/tmp/ipython-input-4212652715.py\u001b[0m in \u001b[0;36m<cell line: 0>\u001b[0;34m()\u001b[0m\n\u001b[0;32m----> 1\u001b[0;31m \u001b[0;32mif\u001b[0m \u001b[0mscore\u001b[0m \u001b[0;34m>\u001b[0m \u001b[0;36m90\u001b[0m\u001b[0;34m:\u001b[0m\u001b[0;34m\u001b[0m\u001b[0;34m\u001b[0m\u001b[0m\n\u001b[0m\u001b[1;32m      2\u001b[0m     \u001b[0mprint\u001b[0m\u001b[0;34m(\u001b[0m\u001b[0;34m\"Отлично!\"\u001b[0m\u001b[0;34m)\u001b[0m\u001b[0;34m\u001b[0m\u001b[0;34m\u001b[0m\u001b[0m\n\u001b[1;32m      3\u001b[0m \u001b[0;32melif\u001b[0m \u001b[0mscore\u001b[0m \u001b[0;34m>\u001b[0m \u001b[0;36m70\u001b[0m\u001b[0;34m:\u001b[0m\u001b[0;34m\u001b[0m\u001b[0;34m\u001b[0m\u001b[0m\n\u001b[1;32m      4\u001b[0m     \u001b[0mprint\u001b[0m\u001b[0;34m(\u001b[0m\u001b[0;34m\"Хорошо\"\u001b[0m\u001b[0;34m)\u001b[0m\u001b[0;34m\u001b[0m\u001b[0;34m\u001b[0m\u001b[0m\n\u001b[1;32m      5\u001b[0m \u001b[0;32melse\u001b[0m\u001b[0;34m:\u001b[0m\u001b[0;34m\u001b[0m\u001b[0;34m\u001b[0m\u001b[0m\n",
            "\u001b[0;31mNameError\u001b[0m: name 'score' is not defined"
          ]
        }
      ]
    },
    {
      "cell_type": "code",
      "metadata": {
        "id": "756df07e"
      },
      "source": [
        "    # Цикл for для итерации по последовательности\n",
        "    fruits = [\"apple\", \"banana\", \"cherry\"]\n",
        "    for fruit in fruits:\n",
        "        print(fruit)\n",
        "\n",
        "    # Цикл while\n",
        "    count = 0\n",
        "    while count < 5:\n",
        "        print(count)\n",
        "        count += 1"
      ],
      "execution_count": null,
      "outputs": []
    },
    {
      "cell_type": "code",
      "metadata": {
        "id": "1e880ac8"
      },
      "source": [
        "    def greet(name):\n",
        "        print(f\"Привет, {name}!\")\n",
        "\n",
        "    greet(\"Боб\")"
      ],
      "execution_count": null,
      "outputs": []
    },
    {
      "cell_type": "markdown",
      "metadata": {
        "id": "bcf74724"
      },
      "source": [
        "## Задание по синтаксису (примерно 10 строк кода)\n",
        "\n",
        "Напишите программу, которая:\n",
        "1. Запросит у пользователя ввести его имя.\n",
        "2. Запросит у пользователя ввести его возраст.\n",
        "3. Если возраст больше или равен 18, выведет сообщение \"Привет, [имя]! Ты совершеннолетний.\".\n",
        "4. Если возраст меньше 18, выведет сообщение \"Привет, [имя]! Ты несовершеннолетний.\"."
      ]
    },
    {
      "cell_type": "code",
      "metadata": {
        "id": "dc75337d"
      },
      "source": [
        "# Задание по синтаксису\n",
        "\n",
        "# 1. Запросить имя\n",
        "name = input(\"Введите ваше имя: \")\n",
        "\n",
        "# 2. Запросить возраст\n",
        "age_str = input(\"Введите ваш возраст: \")\n",
        "age = int(age_str) # Преобразуем строку в целое число\n",
        "\n",
        "# 3. Проверить возраст и вывести сообщение\n",
        "if age >= 18:\n",
        "    print(f\"Привет, {name}! Ты совершеннолетний.\")\n",
        "else:\n",
        "    print(f\"Привет, {name}! Ты несовершеннолетний.\")"
      ],
      "execution_count": null,
      "outputs": []
    },
    {
      "cell_type": "markdown",
      "metadata": {
        "id": "ee8b51a5"
      },
      "source": [
        "# Задание 2 сложная задача\n",
        "\n",
        "Напишите программу, которая считывает строку из маленьких латинских букв и определяет, **какая буква встречается чаще всего**.\n",
        "Если несколько букв встречаются одинаково часто — выведите первую по алфавиту.\n",
        "\n",
        "### Пример\n",
        "`Ввод:` abbccc\n",
        "`Вывод:` c\n",
        "\n",
        "### Подсказка\n",
        "- Используйте словарь для подсчёта количества каждой буквы.\n",
        "- Сравнивайте частоты и выбирайте минимальный ключ при равенстве.\n",
        "- Старайтесь уложиться в 10–12 строк кода."
      ]
    },
    {
      "cell_type": "code",
      "source": [],
      "metadata": {
        "id": "zcO_Z2eV4jpU"
      },
      "execution_count": null,
      "outputs": []
    },
    {
      "cell_type": "code",
      "metadata": {
        "id": "96f53500",
        "outputId": "d15ad05d-21a8-4e94-d916-be2501682c8f",
        "colab": {
          "base_uri": "https://localhost:8080/"
        }
      },
      "source": [
        "# Введите ваш код здесь\n",
        "st = input()\n",
        "d = {}\n",
        "for letter in st:\n",
        "  d[letter] = d.get(letter,0) + 1\n",
        "c = 0\n",
        "for i in d.values():\n",
        "    while i > c:\n",
        "        c = i\n",
        "m_l = []\n",
        "for letter, count in d.items():\n",
        "    if count == c:\n",
        "        m_l.append(letter)\n",
        "a = len(m_l)\n",
        "if a>1:\n",
        "    m_l.sort()\n",
        "    print('Наиболее часто встречающаяся буква:', m_l[0])\n",
        "else:\n",
        "    print('Наиболее част встречающаяся буква:', m_l[0])\n",
        "\n"
      ],
      "execution_count": 5,
      "outputs": [
        {
          "output_type": "stream",
          "name": "stdout",
          "text": [
            "aaabbbkhd\n",
            "Наиболее встречающаяся буква: a\n"
          ]
        }
      ]
    },
    {
      "cell_type": "markdown",
      "metadata": {
        "id": "f72ab688"
      },
      "source": [
        "# Задание 3 очень сложная задача\n",
        "\n",
        "На вход подаётся список положительных чисел. Нужно определить, **сколько существует непрерывных подпоследовательностей, сумма которых равна заданному числу `S`**.\n",
        "\n",
        "### Пример\n",
        "`Список:` [1, 2, 1, 3, 2]\n",
        "`S = 3`\n",
        "`Вывод:` 3\n",
        "\n",
        "Объяснение: подпоследовательности с суммой 3 → [1,2], [2,1], [3].\n",
        "\n",
        "### Подсказка\n",
        "- Используйте две вложенные петли или технику скользящего окна.\n",
        "- Используйте только базовый синтаксис: циклы, условия, списки, переменные."
      ]
    },
    {
      "cell_type": "code",
      "metadata": {
        "id": "b6b2c632"
      },
      "source": [
        "# Введите ваш код здесь\n",
        "numbers = []\n",
        "for i in range(8):\n",
        "    a = int(input())\n",
        "    numbers.append(a)\n",
        "s = int(input('Введите число:'))\n",
        "counter = 0\n",
        "l = len(numbers)\n",
        "\n",
        "for i in range(l):\n",
        "    current = 0\n",
        "    for j in range(i,l):\n",
        "        current += numbers[j]\n",
        "        if current == s:\n",
        "            counter +=1\n",
        "        elif current > s:\n",
        "            break\n",
        "print(f\"Количество подпоследовательностей с суммой {s}: {counter}\")"
      ],
      "execution_count": null,
      "outputs": []
    }
  ]
}